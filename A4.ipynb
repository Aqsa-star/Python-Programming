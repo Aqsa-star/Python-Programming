{
 "cells": [
  {
   "cell_type": "code",
   "execution_count": 28,
   "metadata": {},
   "outputs": [
    {
     "name": "stdout",
     "output_type": "stream",
     "text": [
      "Aqsa\n",
      "Sarfaraz\n",
      "20\n",
      "Karachi\n",
      "Undergraduate\n",
      "{'first_name': 'Aqsa', 'last_name': 'Sarfaraz', 'city': 'Karachi', 'qualification': 'Undergraduate'}\n"
     ]
    }
   ],
   "source": [
    "information =  {\n",
    "    \"first_name\": \"Aqsa\",\n",
    "    \"last_name\": \"Sarfaraz\",\n",
    "    \"age\": \"20\",\n",
    "    \"city\": \"Karachi\",\n",
    "    \"qualification\": \"Undergraduate\"\n",
    "    }\n",
    "\n",
    "\n",
    "print(information[\"first_name\"])\n",
    "print(information[\"last_name\"])\n",
    "print(information[\"age\"])\n",
    "print(information[\"city\"])\n",
    "print(information[\"qualification\"])\n",
    "\n",
    "del information[\"age\"]\n",
    "  \n",
    "print(information)"
   ]
  },
  {
   "cell_type": "code",
   "execution_count": 42,
   "metadata": {},
   "outputs": [
    {
     "name": "stdout",
     "output_type": "stream",
     "text": [
      "{'city a': 'khi', 'city b': 'lhr', 'city c': 'pesh'}\n",
      "{'country a': 'it is in Pakistan', 'country b': 'it is in Pakistan', 'country c': 'it is in Pakistan'}\n",
      "{'population a': '1 crore', 'population b': '2 crore', 'population c': '3 crore'}\n",
      "{'fact a': 'it has a sea side', 'fact b': 'its food is delicious', 'fact c': 'its people are nice'}\n"
     ]
    }
   ],
   "source": [
    "cities = {\n",
    "    0: {\n",
    "      \"city a\": \"khi\",\n",
    "      \"city b\": \"lhr\",\n",
    "      \"city c\": \"pesh\"  \n",
    "    },\n",
    "     1: {\n",
    "      \"country a\": \"it is in Pakistan\",\n",
    "      \"country b\": \"it is in Pakistan\",\n",
    "      \"country c\": \"it is in Pakistan\"  \n",
    "    },\n",
    "    \n",
    "     2: {\n",
    "      \"population a\": \"1 crore\",\n",
    "      \"population b\": \"2 crore\",\n",
    "      \"population c\": \"3 crore\"  \n",
    "    },\n",
    "      3: {\n",
    "      \"fact a\": \"it has a sea side\",\n",
    "      \"fact b\": \"its food is delicious\",\n",
    "      \"fact c\": \"its people are nice\"  \n",
    "    }\n",
    "    \n",
    "}\n",
    "print(cities[0])\n",
    "print(cities[1])\n",
    "print(cities[2])\n",
    "print(cities[3])"
   ]
  },
  {
   "cell_type": "code",
   "execution_count": 51,
   "metadata": {},
   "outputs": [
    {
     "name": "stdout",
     "output_type": "stream",
     "text": [
      "How old are u20\n",
      "Yr ticket is $15\n"
     ]
    }
   ],
   "source": [
    "age=input(\"How old are u\")\n",
    "age=int(age)    \n",
    "if age < 3:\n",
    "        print(\"Yr ticket is free\")\n",
    "elif age < 10:\n",
    "        print(\"Yr ticket is $10\")\n",
    "else :\n",
    "        print(\"Yr ticket is $15\")"
   ]
  },
  {
   "cell_type": "code",
   "execution_count": 55,
   "metadata": {},
   "outputs": [
    {
     "name": "stdout",
     "output_type": "stream",
     "text": [
      "The Abstract World is one of my favorite book\n"
     ]
    }
   ],
   "source": [
    "def favorite_book(title):\n",
    "    print(title + \" \" + \"is one of my favorite book\")\n",
    "\n",
    "favorite_book('The Abstract World')"
   ]
  },
  {
   "cell_type": "code",
   "execution_count": null,
   "metadata": {},
   "outputs": [],
   "source": [
    "import random\n",
    "hidden = random.randrange(1, 30)\n",
    "print(hidden)\n",
    "guess=int(input(\"Please enter ur guess:\"))\n",
    "if guess == hidden:\n",
    "     print(\"hit!\")\n",
    "elif guess < hidden:\n",
    "    print(\"ur guess is too low\")\n",
    "else:\n",
    "    print(\"yr guess is too high\")"
   ]
  },
  {
   "cell_type": "code",
   "execution_count": null,
   "metadata": {},
   "outputs": [],
   "source": [
    "import random\n",
    "hidden = random.randrange(1, 30)\n",
    "#print hidden\n",
    "guess=int(input(\"Please enter ur guess:\"))\n",
    "if guess == hidden:\n",
    "     print(\"hit!\")\n",
    "elif guess < hidden:\n",
    "    print(\"ur guess is too low\")\n",
    "else:\n",
    "    print(\"yr guess is too high\")"
   ]
  },
  {
   "cell_type": "code",
   "execution_count": null,
   "metadata": {},
   "outputs": [],
   "source": [
    "import random\n",
    "hidden = random.randrange(1, 30)\n",
    "#print hidden\n",
    "guess=int(input(\"Please enter ur guess:\"))\n",
    "if guess == hidden:\n",
    "     print(\"hit!\")\n",
    "elif guess < hidden:\n",
    "    print(\"ur guess is too low\")\n",
    "else:\n",
    "    print(\"yr guess is too high\")"
   ]
  },
  {
   "cell_type": "code",
   "execution_count": null,
   "metadata": {},
   "outputs": [],
   "source": [
    "import random\n",
    "hidden = random.randrange(1, 30)\n",
    "#print hidden\n",
    "guess=int(input(\"Please enter ur guess:\"))\n",
    "if guess == hidden:\n",
    "     print(\"hit!\")\n",
    "elif guess < hidden:\n",
    "    print(\"ur guess is too low\")\n",
    "else:\n",
    "    print(\"yr guess is too high\")"
   ]
  },
  {
   "cell_type": "code",
   "execution_count": null,
   "metadata": {},
   "outputs": [],
   "source": []
  },
  {
   "cell_type": "code",
   "execution_count": null,
   "metadata": {},
   "outputs": [],
   "source": []
  },
  {
   "cell_type": "code",
   "execution_count": null,
   "metadata": {},
   "outputs": [],
   "source": []
  },
  {
   "cell_type": "code",
   "execution_count": null,
   "metadata": {},
   "outputs": [],
   "source": []
  },
  {
   "cell_type": "code",
   "execution_count": null,
   "metadata": {},
   "outputs": [],
   "source": []
  },
  {
   "cell_type": "code",
   "execution_count": null,
   "metadata": {},
   "outputs": [],
   "source": [
    "import random\n",
    "hidden = random.randrange(1, 30)\n",
    "#print hidden\n",
    "guess=int(input(\"Please enter ur guess:\"))\n",
    "if guess == hidden:\n",
    "     print(\"hit!\")\n",
    "elif guess < hidden:\n",
    "    print(\"ur guess is too low\")\n",
    "else:\n",
    "    print(\"yr guess is too high\")"
   ]
  },
  {
   "cell_type": "code",
   "execution_count": null,
   "metadata": {},
   "outputs": [],
   "source": []
  }
 ],
 "metadata": {
  "kernelspec": {
   "display_name": "Python 3",
   "language": "python",
   "name": "python3"
  },
  "language_info": {
   "codemirror_mode": {
    "name": "ipython",
    "version": 3
   },
   "file_extension": ".py",
   "mimetype": "text/x-python",
   "name": "python",
   "nbconvert_exporter": "python",
   "pygments_lexer": "ipython3",
   "version": "3.7.4"
  }
 },
 "nbformat": 4,
 "nbformat_minor": 2
}
